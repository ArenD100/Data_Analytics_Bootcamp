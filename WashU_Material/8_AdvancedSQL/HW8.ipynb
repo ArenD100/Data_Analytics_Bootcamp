{
 "cells": [
  {
   "cell_type": "code",
   "execution_count": 1,
   "metadata": {},
   "outputs": [],
   "source": [
    "%matplotlib inline\n",
    "from matplotlib import style\n",
    "style.use('fivethirtyeight')\n",
    "import matplotlib.pyplot as plt\n",
    "import numpy as np\n",
    "import pandas as pd\n",
    "import datetime as dt"
   ]
  },
  {
   "cell_type": "code",
   "execution_count": 4,
   "metadata": {},
   "outputs": [],
   "source": [
    "import sqlalchemy\n",
    "from sqlalchemy.ext.automap import automap_base\n",
    "from sqlalchemy.orm import Session\n",
    "from sqlalchemy import create_engine, inspect, func"
   ]
  },
  {
   "cell_type": "code",
   "execution_count": 5,
   "metadata": {},
   "outputs": [],
   "source": [
    "engine = create_engine(\"sqlite:///Resources/hawaii.sqlite\")\n",
    "#conn = engine.connect()"
   ]
  },
  {
   "cell_type": "code",
   "execution_count": 6,
   "metadata": {},
   "outputs": [],
   "source": [
    "# reflect an existing database into a new model\n",
    "Base = automap_base()\n",
    "# reflect the tables\n",
    "Base.prepare(engine, reflect=True)"
   ]
  },
  {
   "cell_type": "code",
   "execution_count": 7,
   "metadata": {},
   "outputs": [
    {
     "data": {
      "text/plain": [
       "['measurement', 'station']"
      ]
     },
     "execution_count": 7,
     "metadata": {},
     "output_type": "execute_result"
    }
   ],
   "source": [
    "# We can view all of the classes that automap found\n",
    "Base.classes.keys()"
   ]
  },
  {
   "cell_type": "code",
   "execution_count": 8,
   "metadata": {},
   "outputs": [],
   "source": [
    "# Save references to each table\n",
    "Measurement = Base.classes.measurement\n",
    "Station = Base.classes.station"
   ]
  },
  {
   "cell_type": "code",
   "execution_count": 9,
   "metadata": {},
   "outputs": [],
   "source": [
    "# Create our session (link) from Python to the DB\n",
    "session = Session(engine)"
   ]
  },
  {
   "cell_type": "code",
   "execution_count": 10,
   "metadata": {},
   "outputs": [
    {
     "name": "stdout",
     "output_type": "stream",
     "text": [
      "id INTEGER\n",
      "station TEXT\n",
      "date TEXT\n",
      "prcp FLOAT\n",
      "tobs FLOAT\n"
     ]
    }
   ],
   "source": [
    "inspector = inspect(engine)\n",
    "columns = inspector.get_columns('Measurement')\n",
    "for c in columns:\n",
    "    print(c['name'], c['type'])"
   ]
  },
  {
   "cell_type": "code",
   "execution_count": 11,
   "metadata": {},
   "outputs": [
    {
     "name": "stdout",
     "output_type": "stream",
     "text": [
      "id INTEGER\n",
      "station TEXT\n",
      "name TEXT\n",
      "latitude FLOAT\n",
      "longitude FLOAT\n",
      "elevation FLOAT\n"
     ]
    }
   ],
   "source": [
    "columns = inspector.get_columns('Station')\n",
    "for c in columns:\n",
    "    print(c['name'], c['type'])"
   ]
  },
  {
   "cell_type": "code",
   "execution_count": 12,
   "metadata": {},
   "outputs": [
    {
     "data": {
      "text/plain": [
       "[(1, 'USC00519397', '2010-01-01', 0.08, 65.0),\n",
       " (2, 'USC00519397', '2010-01-02', 0.0, 63.0),\n",
       " (3, 'USC00519397', '2010-01-03', 0.0, 74.0),\n",
       " (4, 'USC00519397', '2010-01-04', 0.0, 76.0),\n",
       " (5, 'USC00519397', '2010-01-06', None, 73.0),\n",
       " (6, 'USC00519397', '2010-01-07', 0.06, 70.0),\n",
       " (7, 'USC00519397', '2010-01-08', 0.0, 64.0),\n",
       " (8, 'USC00519397', '2010-01-09', 0.0, 68.0),\n",
       " (9, 'USC00519397', '2010-01-10', 0.0, 73.0),\n",
       " (10, 'USC00519397', '2010-01-11', 0.01, 64.0)]"
      ]
     },
     "execution_count": 12,
     "metadata": {},
     "output_type": "execute_result"
    }
   ],
   "source": [
    "engine.execute('SELECT * FROM Measurement LIMIT 10').fetchall()"
   ]
  },
  {
   "cell_type": "code",
   "execution_count": 13,
   "metadata": {},
   "outputs": [
    {
     "data": {
      "text/plain": [
       "[(1, 'USC00519397', 'WAIKIKI 717.2, HI US', 21.2716, -157.8168, 3.0),\n",
       " (2, 'USC00513117', 'KANEOHE 838.1, HI US', 21.4234, -157.8015, 14.6),\n",
       " (3, 'USC00514830', 'KUALOA RANCH HEADQUARTERS 886.9, HI US', 21.5213, -157.8374, 7.0),\n",
       " (4, 'USC00517948', 'PEARL CITY, HI US', 21.3934, -157.9751, 11.9),\n",
       " (5, 'USC00518838', 'UPPER WAHIAWA 874.3, HI US', 21.4992, -158.0111, 306.6),\n",
       " (6, 'USC00519523', 'WAIMANALO EXPERIMENTAL FARM, HI US', 21.33556, -157.71139, 19.5),\n",
       " (7, 'USC00519281', 'WAIHEE 837.5, HI US', 21.45167, -157.84888999999998, 32.9),\n",
       " (8, 'USC00511918', 'HONOLULU OBSERVATORY 702.2, HI US', 21.3152, -157.9992, 0.9),\n",
       " (9, 'USC00516128', 'MANOA LYON ARBO 785.2, HI US', 21.3331, -157.8025, 152.4)]"
      ]
     },
     "execution_count": 13,
     "metadata": {},
     "output_type": "execute_result"
    }
   ],
   "source": [
    "engine.execute('SELECT * FROM Station LIMIT 10').fetchall()"
   ]
  },
  {
   "cell_type": "code",
   "execution_count": 14,
   "metadata": {},
   "outputs": [
    {
     "name": "stdout",
     "output_type": "stream",
     "text": [
      "('2017-08-23',)\n",
      "('2017-08-23',)\n",
      "('2017-08-23',)\n",
      "('2017-08-23',)\n",
      "('2017-08-22',)\n",
      "('2017-08-22',)\n",
      "('2017-08-22',)\n",
      "('2017-08-21',)\n",
      "('2017-08-21',)\n",
      "('2017-08-21',)\n",
      "('2017-08-21',)\n",
      "('2017-08-20',)\n",
      "('2017-08-20',)\n",
      "('2017-08-20',)\n",
      "('2017-08-19',)\n",
      "('2017-08-19',)\n",
      "('2017-08-19',)\n",
      "('2017-08-19',)\n",
      "('2017-08-18',)\n",
      "('2017-08-18',)\n",
      "('2017-08-18',)\n",
      "('2017-08-18',)\n",
      "('2017-08-17',)\n",
      "('2017-08-17',)\n",
      "('2017-08-17',)\n",
      "('2017-08-17',)\n",
      "('2017-08-16',)\n",
      "('2017-08-16',)\n",
      "('2017-08-16',)\n",
      "('2017-08-16',)\n",
      "('2017-08-15',)\n",
      "('2017-08-15',)\n",
      "('2017-08-15',)\n",
      "('2017-08-15',)\n",
      "('2017-08-15',)\n",
      "('2017-08-14',)\n",
      "('2017-08-14',)\n",
      "('2017-08-14',)\n",
      "('2017-08-14',)\n",
      "('2017-08-14',)\n",
      "('2017-08-13',)\n",
      "('2017-08-13',)\n",
      "('2017-08-13',)\n",
      "('2017-08-13',)\n",
      "('2017-08-13',)\n",
      "('2017-08-12',)\n",
      "('2017-08-12',)\n",
      "('2017-08-12',)\n",
      "('2017-08-11',)\n",
      "('2017-08-11',)\n",
      "('2017-08-11',)\n",
      "('2017-08-11',)\n",
      "('2017-08-10',)\n",
      "('2017-08-10',)\n",
      "('2017-08-10',)\n",
      "('2017-08-10',)\n",
      "('2017-08-09',)\n",
      "('2017-08-09',)\n",
      "('2017-08-09',)\n",
      "('2017-08-08',)\n",
      "('2017-08-08',)\n",
      "('2017-08-08',)\n",
      "('2017-08-08',)\n",
      "('2017-08-07',)\n",
      "('2017-08-07',)\n",
      "('2017-08-07',)\n",
      "('2017-08-07',)\n",
      "('2017-08-06',)\n",
      "('2017-08-06',)\n",
      "('2017-08-06',)\n",
      "('2017-08-06',)\n",
      "('2017-08-06',)\n",
      "('2017-08-05',)\n",
      "('2017-08-05',)\n",
      "('2017-08-05',)\n",
      "('2017-08-04',)\n",
      "('2017-08-04',)\n",
      "('2017-08-04',)\n",
      "('2017-08-04',)\n",
      "('2017-08-03',)\n",
      "('2017-08-03',)\n",
      "('2017-08-03',)\n",
      "('2017-08-03',)\n",
      "('2017-08-02',)\n",
      "('2017-08-02',)\n",
      "('2017-08-02',)\n",
      "('2017-08-02',)\n",
      "('2017-08-01',)\n",
      "('2017-08-01',)\n",
      "('2017-08-01',)\n",
      "('2017-08-01',)\n",
      "('2017-07-31',)\n",
      "('2017-07-31',)\n",
      "('2017-07-31',)\n",
      "('2017-07-31',)\n",
      "('2017-07-31',)\n",
      "('2017-07-31',)\n",
      "('2017-07-31',)\n",
      "('2017-07-30',)\n",
      "('2017-07-30',)\n",
      "('2017-07-30',)\n",
      "('2017-07-30',)\n",
      "('2017-07-30',)\n",
      "('2017-07-29',)\n",
      "('2017-07-29',)\n",
      "('2017-07-29',)\n",
      "('2017-07-29',)\n",
      "('2017-07-29',)\n",
      "('2017-07-29',)\n",
      "('2017-07-28',)\n",
      "('2017-07-28',)\n",
      "('2017-07-28',)\n",
      "('2017-07-28',)\n",
      "('2017-07-28',)\n",
      "('2017-07-28',)\n",
      "('2017-07-28',)\n",
      "('2017-07-27',)\n",
      "('2017-07-27',)\n",
      "('2017-07-27',)\n",
      "('2017-07-27',)\n",
      "('2017-07-27',)\n",
      "('2017-07-27',)\n",
      "('2017-07-27',)\n",
      "('2017-07-26',)\n",
      "('2017-07-26',)\n",
      "('2017-07-26',)\n",
      "('2017-07-26',)\n",
      "('2017-07-26',)\n",
      "('2017-07-26',)\n",
      "('2017-07-26',)\n",
      "('2017-07-25',)\n",
      "('2017-07-25',)\n",
      "('2017-07-25',)\n",
      "('2017-07-25',)\n",
      "('2017-07-25',)\n",
      "('2017-07-25',)\n",
      "('2017-07-25',)\n",
      "('2017-07-24',)\n",
      "('2017-07-24',)\n",
      "('2017-07-24',)\n",
      "('2017-07-24',)\n",
      "('2017-07-24',)\n",
      "('2017-07-24',)\n",
      "('2017-07-23',)\n",
      "('2017-07-23',)\n",
      "('2017-07-23',)\n",
      "('2017-07-23',)\n",
      "('2017-07-23',)\n",
      "('2017-07-22',)\n",
      "('2017-07-22',)\n",
      "('2017-07-22',)\n",
      "('2017-07-22',)\n",
      "('2017-07-22',)\n",
      "('2017-07-22',)\n",
      "('2017-07-21',)\n",
      "('2017-07-21',)\n",
      "('2017-07-21',)\n",
      "('2017-07-21',)\n",
      "('2017-07-21',)\n",
      "('2017-07-21',)\n",
      "('2017-07-21',)\n",
      "('2017-07-20',)\n",
      "('2017-07-20',)\n",
      "('2017-07-20',)\n",
      "('2017-07-20',)\n",
      "('2017-07-20',)\n",
      "('2017-07-20',)\n",
      "('2017-07-20',)\n",
      "('2017-07-19',)\n",
      "('2017-07-19',)\n",
      "('2017-07-19',)\n",
      "('2017-07-19',)\n",
      "('2017-07-19',)\n",
      "('2017-07-19',)\n",
      "('2017-07-18',)\n",
      "('2017-07-18',)\n",
      "('2017-07-18',)\n",
      "('2017-07-18',)\n",
      "('2017-07-18',)\n",
      "('2017-07-18',)\n",
      "('2017-07-18',)\n",
      "('2017-07-17',)\n",
      "('2017-07-17',)\n",
      "('2017-07-17',)\n",
      "('2017-07-17',)\n",
      "('2017-07-17',)\n",
      "('2017-07-17',)\n",
      "('2017-07-16',)\n",
      "('2017-07-16',)\n",
      "('2017-07-16',)\n",
      "('2017-07-16',)\n",
      "('2017-07-16',)\n",
      "('2017-07-16',)\n",
      "('2017-07-15',)\n",
      "('2017-07-15',)\n",
      "('2017-07-15',)\n",
      "('2017-07-15',)\n",
      "('2017-07-15',)\n",
      "('2017-07-15',)\n",
      "('2017-07-14',)\n",
      "('2017-07-14',)\n",
      "('2017-07-14',)\n",
      "('2017-07-14',)\n",
      "('2017-07-14',)\n",
      "('2017-07-14',)\n",
      "('2017-07-13',)\n",
      "('2017-07-13',)\n",
      "('2017-07-13',)\n",
      "('2017-07-13',)\n",
      "('2017-07-13',)\n",
      "('2017-07-13',)\n",
      "('2017-07-13',)\n",
      "('2017-07-12',)\n",
      "('2017-07-12',)\n",
      "('2017-07-12',)\n",
      "('2017-07-12',)\n",
      "('2017-07-12',)\n",
      "('2017-07-12',)\n",
      "('2017-07-12',)\n",
      "('2017-07-11',)\n",
      "('2017-07-11',)\n",
      "('2017-07-11',)\n",
      "('2017-07-11',)\n",
      "('2017-07-11',)\n",
      "('2017-07-11',)\n",
      "('2017-07-11',)\n",
      "('2017-07-10',)\n",
      "('2017-07-10',)\n",
      "('2017-07-10',)\n",
      "('2017-07-10',)\n",
      "('2017-07-10',)\n",
      "('2017-07-10',)\n",
      "('2017-07-10',)\n",
      "('2017-07-09',)\n",
      "('2017-07-09',)\n",
      "('2017-07-09',)\n",
      "('2017-07-09',)\n",
      "('2017-07-09',)\n",
      "('2017-07-09',)\n",
      "('2017-07-08',)\n",
      "('2017-07-08',)\n",
      "('2017-07-08',)\n",
      "('2017-07-08',)\n",
      "('2017-07-08',)\n",
      "('2017-07-08',)\n",
      "('2017-07-07',)\n",
      "('2017-07-07',)\n",
      "('2017-07-07',)\n",
      "('2017-07-07',)\n",
      "('2017-07-07',)\n",
      "('2017-07-07',)\n",
      "('2017-07-07',)\n",
      "('2017-07-06',)\n",
      "('2017-07-06',)\n",
      "('2017-07-06',)\n",
      "('2017-07-06',)\n",
      "('2017-07-06',)\n",
      "('2017-07-06',)\n",
      "('2017-07-05',)\n",
      "('2017-07-05',)\n",
      "('2017-07-05',)\n",
      "('2017-07-05',)\n",
      "('2017-07-05',)\n",
      "('2017-07-05',)\n",
      "('2017-07-05',)\n",
      "('2017-07-04',)\n",
      "('2017-07-04',)\n",
      "('2017-07-04',)\n",
      "('2017-07-04',)\n",
      "('2017-07-03',)\n",
      "('2017-07-03',)\n",
      "('2017-07-03',)\n",
      "('2017-07-03',)\n",
      "('2017-07-03',)\n",
      "('2017-07-03',)\n",
      "('2017-07-03',)\n",
      "('2017-07-02',)\n",
      "('2017-07-02',)\n",
      "('2017-07-02',)\n",
      "('2017-07-02',)\n",
      "('2017-07-02',)\n",
      "('2017-07-01',)\n",
      "('2017-07-01',)\n",
      "('2017-07-01',)\n",
      "('2017-07-01',)\n",
      "('2017-06-30',)\n",
      "('2017-06-30',)\n",
      "('2017-06-30',)\n",
      "('2017-06-30',)\n",
      "('2017-06-30',)\n",
      "('2017-06-30',)\n",
      "('2017-06-30',)\n",
      "('2017-06-29',)\n",
      "('2017-06-29',)\n",
      "('2017-06-29',)\n",
      "('2017-06-29',)\n",
      "('2017-06-29',)\n",
      "('2017-06-29',)\n",
      "('2017-06-29',)\n",
      "('2017-06-28',)\n",
      "('2017-06-28',)\n",
      "('2017-06-28',)\n",
      "('2017-06-28',)\n",
      "('2017-06-28',)\n",
      "('2017-06-28',)\n",
      "('2017-06-27',)\n",
      "('2017-06-27',)\n",
      "('2017-06-27',)\n",
      "('2017-06-27',)\n",
      "('2017-06-27',)\n",
      "('2017-06-27',)\n",
      "('2017-06-26',)\n",
      "('2017-06-26',)\n",
      "('2017-06-26',)\n",
      "('2017-06-26',)\n",
      "('2017-06-26',)\n",
      "('2017-06-26',)\n",
      "('2017-06-26',)\n",
      "('2017-06-25',)\n",
      "('2017-06-25',)\n",
      "('2017-06-25',)\n",
      "('2017-06-25',)\n",
      "('2017-06-25',)\n",
      "('2017-06-24',)\n",
      "('2017-06-24',)\n",
      "('2017-06-24',)\n",
      "('2017-06-24',)\n",
      "('2017-06-24',)\n",
      "('2017-06-23',)\n",
      "('2017-06-23',)\n",
      "('2017-06-23',)\n",
      "('2017-06-23',)\n",
      "('2017-06-23',)\n",
      "('2017-06-23',)\n",
      "('2017-06-23',)\n",
      "('2017-06-22',)\n",
      "('2017-06-22',)\n",
      "('2017-06-22',)\n",
      "('2017-06-22',)\n",
      "('2017-06-22',)\n",
      "('2017-06-22',)\n",
      "('2017-06-21',)\n",
      "('2017-06-21',)\n",
      "('2017-06-21',)\n",
      "('2017-06-21',)\n",
      "('2017-06-21',)\n",
      "('2017-06-21',)\n",
      "('2017-06-20',)\n",
      "('2017-06-20',)\n",
      "('2017-06-20',)\n",
      "('2017-06-20',)\n",
      "('2017-06-20',)\n",
      "('2017-06-20',)\n",
      "('2017-06-19',)\n",
      "('2017-06-19',)\n",
      "('2017-06-19',)\n",
      "('2017-06-19',)\n",
      "('2017-06-19',)\n",
      "('2017-06-19',)\n",
      "('2017-06-19',)\n",
      "('2017-06-18',)\n",
      "('2017-06-18',)\n",
      "('2017-06-18',)\n",
      "('2017-06-18',)\n",
      "('2017-06-18',)\n"
     ]
    }
   ],
   "source": [
    "# Design a query to retrieve the last 12 months of precipitation data \n",
    "for row in session.query(Measurement.date).order_by(Measurement.date.desc()).limit(365):\n",
    "    print(row)"
   ]
  },
  {
   "cell_type": "code",
   "execution_count": 15,
   "metadata": {
    "scrolled": true
   },
   "outputs": [
    {
     "name": "stdout",
     "output_type": "stream",
     "text": [
      "Date from last date in data:  2016-08-23\n"
     ]
    },
    {
     "data": {
      "image/png": "[encoded data removed]",
      "text/plain": [
       "<Figure size 432x288 with 1 Axes>"
      ]
     },
     "metadata": {
      "needs_background": "light"
     },
     "output_type": "display_data"
    }
   ],
   "source": [
    "# Calculate the date 1 year ago from the last data point in the database\n",
    "session.query(Measurement.date).order_by(Measurement.date.desc()).first()\n",
    "year_ago = dt.date(2017,8,23) - dt.timedelta(days=365)\n",
    "print(\"Date from last date in data: \", year_ago)\n",
    "\n",
    "# Perform a query to retrieve the data and precipitation scores\n",
    "# filter by stations and set specific time, get count or sum of each month?   \n",
    "# Save the query results as a Pandas DataFrame and set the index to the date column\n",
    "# Sort the dataframe by date\n",
    "# Use Pandas Plotting with Matplotlib to plot the data\n",
    "\n",
    "results = session.query(Measurement.date, Measurement.prcp).filter(Measurement.date >= year_ago).all()\n",
    "df = pd.DataFrame(results, columns=['date', 'prcp'])\n",
    "df.set_index(df['date'], inplace=True)\n",
    "df = df.sort_index()\n",
    "df.plot()\n",
    "plt.ylabel(\"Inches of Precipitation\")\n",
    "plt.tight_layout()\n",
    "plt.show()\n"
   ]
  },
  {
   "cell_type": "code",
   "execution_count": 16,
   "metadata": {},
   "outputs": [
    {
     "data": {
      "text/plain": [
       "count    2021.000000\n",
       "mean        0.177279\n",
       "std         0.461190\n",
       "min         0.000000\n",
       "25%         0.000000\n",
       "50%         0.020000\n",
       "75%         0.130000\n",
       "max         6.700000\n",
       "Name: prcp, dtype: float64"
      ]
     },
     "execution_count": 16,
     "metadata": {},
     "output_type": "execute_result"
    }
   ],
   "source": [
    "# Use Pandas to calcualte the summary statistics for the precipitation data\n",
    "df['prcp'].describe()"
   ]
  },
  {
   "cell_type": "code",
   "execution_count": 17,
   "metadata": {},
   "outputs": [
    {
     "name": "stdout",
     "output_type": "stream",
     "text": [
      "Total Measurement Stations:  [(19550,)]\n",
      "There are [(9,)] types of stations\n"
     ]
    }
   ],
   "source": [
    "# Design a query to show how many stations are available in this dataset?\n",
    "total_m_stations = session.query(func.count(Measurement.station)).all()\n",
    "total_s_stations = session.query(func.count(Station.station)).all()\n",
    "print(\"Total Measurement Stations: \", total_m_stations)\n",
    "print(f\"There are {total_s_stations} types of stations\")"
   ]
  },
  {
   "cell_type": "code",
   "execution_count": 18,
   "metadata": {},
   "outputs": [
    {
     "data": {
      "text/plain": [
       "[('USC00519281', 2772),\n",
       " ('USC00519397', 2724),\n",
       " ('USC00513117', 2709),\n",
       " ('USC00519523', 2669),\n",
       " ('USC00516128', 2612),\n",
       " ('USC00514830', 2202),\n",
       " ('USC00511918', 1979),\n",
       " ('USC00517948', 1372),\n",
       " ('USC00518838', 511)]"
      ]
     },
     "execution_count": 18,
     "metadata": {},
     "output_type": "execute_result"
    }
   ],
   "source": [
    "# What are the most active stations? (i.e. what stations have the most rows)?\n",
    "# List the stations and the counts in descending order.\n",
    "# search the syllabus for a reference\n",
    "session.query(Measurement.station, func.count(Measurement.station)).\\\n",
    "    group_by(Measurement.station).order_by(func.count(Measurement.station).desc()).all()"
   ]
  },
  {
   "cell_type": "code",
   "execution_count": 19,
   "metadata": {},
   "outputs": [
    {
     "data": {
      "text/plain": [
       "[(54.0, 85.0, 71.66378066378067)]"
      ]
     },
     "execution_count": 19,
     "metadata": {},
     "output_type": "execute_result"
    }
   ],
   "source": [
    "# Using the station id from the previous query, calculate the lowest temperature recorded, \n",
    "# highest temperature recorded, and average temperature most active station?\n",
    "session.query(func.min(Measurement.tobs), func.max(Measurement.tobs), func.avg(Measurement.tobs)).\\\n",
    "    filter(Measurement.station == 'USC00519281').all()"
   ]
  },
  {
   "cell_type": "code",
   "execution_count": 20,
   "metadata": {},
   "outputs": [
    {
     "data": {
      "image/png": "[encoded data removed]",
      "text/plain": [
       "<Figure size 432x288 with 1 Axes>"
      ]
     },
     "metadata": {
      "needs_background": "light"
     },
     "output_type": "display_data"
    }
   ],
   "source": [
    "# Choose the station with the highest number of temperature observations.\n",
    "# Query the last 12 months of temperature observation data for this station and plot the results as a histogram\n",
    "# Follow Similar Procedure to creating bar chart plot\n",
    "results = session.query(Measurement.tobs).\\\n",
    "                       filter(Measurement.station == 'USC00519281').\\\n",
    "                        filter(Measurement.date >= year_ago).all()\n",
    "                        \n",
    "df = pd.DataFrame(results, columns=['tobs'])\n",
    "df.plot.hist()\n",
    "plt.tight_layout()                       "
   ]
  },
  {
   "cell_type": "code",
   "execution_count": 21,
   "metadata": {},
   "outputs": [
    {
     "name": "stdout",
     "output_type": "stream",
     "text": [
      "[(62.0, 69.57142857142857, 74.0)]\n"
     ]
    }
   ],
   "source": [
    "# This function called `calc_temps` will accept start date and end date in the format '%Y-%m-%d' \n",
    "# and return the minimum, average, and maximum temperatures for that range of dates\n",
    "def calc_temps(start_date, end_date):\n",
    "    \"\"\"TMIN, TAVG, and TMAX for a list of dates.\n",
    "    \n",
    "    Args:\n",
    "        start_date (string): A date string in the format %Y-%m-%d\n",
    "        end_date (string): A date string in the format %Y-%m-%d\n",
    "        \n",
    "    Returns:\n",
    "        TMIN, TAVE, and TMAX\n",
    "    \"\"\"\n",
    "    \n",
    "    return session.query(func.min(Measurement.tobs), func.avg(Measurement.tobs), func.max(Measurement.tobs)).\\\n",
    "        filter(Measurement.date >= start_date).filter(Measurement.date <= end_date).all()\n",
    "\n",
    "# function usage example\n",
    "print(calc_temps('2012-02-28', '2012-03-05'))"
   ]
  },
  {
   "cell_type": "code",
   "execution_count": 22,
   "metadata": {},
   "outputs": [
    {
     "name": "stdout",
     "output_type": "stream",
     "text": [
      "[(71.0, 76.8, 81.0)]\n"
     ]
    }
   ],
   "source": [
    "# Use your previous function `calc_temps` to calculate the tmin, tavg, and tmax \n",
    "# for your trip using the previous year's data for those same dates.\n",
    "start = dt.date(2017, 6, 24) - dt.timedelta(days=365)\n",
    "end = dt.date(2017, 6, 30) - dt.timedelta(days=365)\n",
    "t_data = calc_temps(start.strftime(\"%Y-%m-%d\"), end.strftime(\"%Y-%m-%d\"))\n",
    "print(t_data)"
   ]
  },
  {
   "cell_type": "code",
   "execution_count": 28,
   "metadata": {},
   "outputs": [
    {
     "ename": "AssertionError",
     "evalue": "0 columns passed, passed data had 3 columns",
     "output_type": "error",
     "traceback": [
      "\u001b[1;31m---------------------------------------------------------------------------\u001b[0m",
      "\u001b[1;31mAssertionError\u001b[0m                            Traceback (most recent call last)",
      "\u001b[1;32m<ipython-input-28-823f74375967>\u001b[0m in \u001b[0;36m<module>\u001b[1;34m\u001b[0m\n\u001b[0;32m      3\u001b[0m \u001b[1;31m# Use the average temperature for the y value\u001b[0m\u001b[1;33m\u001b[0m\u001b[1;33m\u001b[0m\u001b[1;33m\u001b[0m\u001b[0m\n\u001b[0;32m      4\u001b[0m \u001b[1;31m# Use the peak-to-peak (tmax-tmin) value as the y error bar (yerr)\u001b[0m\u001b[1;33m\u001b[0m\u001b[1;33m\u001b[0m\u001b[1;33m\u001b[0m\u001b[0m\n\u001b[1;32m----> 5\u001b[1;33m \u001b[0mdata\u001b[0m \u001b[1;33m=\u001b[0m \u001b[0mpd\u001b[0m\u001b[1;33m.\u001b[0m\u001b[0mDataFrame\u001b[0m\u001b[1;33m(\u001b[0m\u001b[0mt_data\u001b[0m\u001b[1;33m)\u001b[0m\u001b[1;33m\u001b[0m\u001b[1;33m\u001b[0m\u001b[0m\n\u001b[0m\u001b[0;32m      6\u001b[0m \u001b[0mdata\u001b[0m\u001b[1;33m.\u001b[0m\u001b[0mplot\u001b[0m\u001b[1;33m.\u001b[0m\u001b[0mbar\u001b[0m\u001b[1;33m(\u001b[0m\u001b[1;33m)\u001b[0m\u001b[1;33m\u001b[0m\u001b[1;33m\u001b[0m\u001b[0m\n\u001b[0;32m      7\u001b[0m \u001b[0mplt\u001b[0m\u001b[1;33m.\u001b[0m\u001b[0mtitle\u001b[0m\u001b[1;33m(\u001b[0m\u001b[1;34m'Trip Avg Temp'\u001b[0m\u001b[1;33m)\u001b[0m\u001b[1;33m\u001b[0m\u001b[1;33m\u001b[0m\u001b[0m\n",
      "\u001b[1;32m~\\Anaconda3\\lib\\site-packages\\pandas\\core\\frame.py\u001b[0m in \u001b[0;36m__init__\u001b[1;34m(self, data, index, columns, dtype, copy)\u001b[0m\n\u001b[0;32m    433\u001b[0m                     \u001b[1;32mif\u001b[0m \u001b[0mis_named_tuple\u001b[0m\u001b[1;33m(\u001b[0m\u001b[0mdata\u001b[0m\u001b[1;33m[\u001b[0m\u001b[1;36m0\u001b[0m\u001b[1;33m]\u001b[0m\u001b[1;33m)\u001b[0m \u001b[1;32mand\u001b[0m \u001b[0mcolumns\u001b[0m \u001b[1;32mis\u001b[0m \u001b[1;32mNone\u001b[0m\u001b[1;33m:\u001b[0m\u001b[1;33m\u001b[0m\u001b[1;33m\u001b[0m\u001b[0m\n\u001b[0;32m    434\u001b[0m                         \u001b[0mcolumns\u001b[0m \u001b[1;33m=\u001b[0m \u001b[0mdata\u001b[0m\u001b[1;33m[\u001b[0m\u001b[1;36m0\u001b[0m\u001b[1;33m]\u001b[0m\u001b[1;33m.\u001b[0m\u001b[0m_fields\u001b[0m\u001b[1;33m\u001b[0m\u001b[1;33m\u001b[0m\u001b[0m\n\u001b[1;32m--> 435\u001b[1;33m                     \u001b[0marrays\u001b[0m\u001b[1;33m,\u001b[0m \u001b[0mcolumns\u001b[0m \u001b[1;33m=\u001b[0m \u001b[0mto_arrays\u001b[0m\u001b[1;33m(\u001b[0m\u001b[0mdata\u001b[0m\u001b[1;33m,\u001b[0m \u001b[0mcolumns\u001b[0m\u001b[1;33m,\u001b[0m \u001b[0mdtype\u001b[0m\u001b[1;33m=\u001b[0m\u001b[0mdtype\u001b[0m\u001b[1;33m)\u001b[0m\u001b[1;33m\u001b[0m\u001b[1;33m\u001b[0m\u001b[0m\n\u001b[0m\u001b[0;32m    436\u001b[0m                     \u001b[0mcolumns\u001b[0m \u001b[1;33m=\u001b[0m \u001b[0mensure_index\u001b[0m\u001b[1;33m(\u001b[0m\u001b[0mcolumns\u001b[0m\u001b[1;33m)\u001b[0m\u001b[1;33m\u001b[0m\u001b[1;33m\u001b[0m\u001b[0m\n\u001b[0;32m    437\u001b[0m \u001b[1;33m\u001b[0m\u001b[0m\n",
      "\u001b[1;32m~\\Anaconda3\\lib\\site-packages\\pandas\\core\\internals\\construction.py\u001b[0m in \u001b[0;36mto_arrays\u001b[1;34m(data, columns, coerce_float, dtype)\u001b[0m\n\u001b[0;32m    402\u001b[0m     \u001b[1;32mif\u001b[0m \u001b[0misinstance\u001b[0m\u001b[1;33m(\u001b[0m\u001b[0mdata\u001b[0m\u001b[1;33m[\u001b[0m\u001b[1;36m0\u001b[0m\u001b[1;33m]\u001b[0m\u001b[1;33m,\u001b[0m \u001b[1;33m(\u001b[0m\u001b[0mlist\u001b[0m\u001b[1;33m,\u001b[0m \u001b[0mtuple\u001b[0m\u001b[1;33m)\u001b[0m\u001b[1;33m)\u001b[0m\u001b[1;33m:\u001b[0m\u001b[1;33m\u001b[0m\u001b[1;33m\u001b[0m\u001b[0m\n\u001b[0;32m    403\u001b[0m         return _list_to_arrays(data, columns, coerce_float=coerce_float,\n\u001b[1;32m--> 404\u001b[1;33m                                dtype=dtype)\n\u001b[0m\u001b[0;32m    405\u001b[0m     \u001b[1;32melif\u001b[0m \u001b[0misinstance\u001b[0m\u001b[1;33m(\u001b[0m\u001b[0mdata\u001b[0m\u001b[1;33m[\u001b[0m\u001b[1;36m0\u001b[0m\u001b[1;33m]\u001b[0m\u001b[1;33m,\u001b[0m \u001b[0mcompat\u001b[0m\u001b[1;33m.\u001b[0m\u001b[0mMapping\u001b[0m\u001b[1;33m)\u001b[0m\u001b[1;33m:\u001b[0m\u001b[1;33m\u001b[0m\u001b[1;33m\u001b[0m\u001b[0m\n\u001b[0;32m    406\u001b[0m         return _list_of_dict_to_arrays(data, columns,\n",
      "\u001b[1;32m~\\Anaconda3\\lib\\site-packages\\pandas\\core\\internals\\construction.py\u001b[0m in \u001b[0;36m_list_to_arrays\u001b[1;34m(data, columns, coerce_float, dtype)\u001b[0m\n\u001b[0;32m    434\u001b[0m         \u001b[0mcontent\u001b[0m \u001b[1;33m=\u001b[0m \u001b[0mlist\u001b[0m\u001b[1;33m(\u001b[0m\u001b[0mlib\u001b[0m\u001b[1;33m.\u001b[0m\u001b[0mto_object_array\u001b[0m\u001b[1;33m(\u001b[0m\u001b[0mdata\u001b[0m\u001b[1;33m)\u001b[0m\u001b[1;33m.\u001b[0m\u001b[0mT\u001b[0m\u001b[1;33m)\u001b[0m\u001b[1;33m\u001b[0m\u001b[1;33m\u001b[0m\u001b[0m\n\u001b[0;32m    435\u001b[0m     return _convert_object_array(content, columns, dtype=dtype,\n\u001b[1;32m--> 436\u001b[1;33m                                  coerce_float=coerce_float)\n\u001b[0m\u001b[0;32m    437\u001b[0m \u001b[1;33m\u001b[0m\u001b[0m\n\u001b[0;32m    438\u001b[0m \u001b[1;33m\u001b[0m\u001b[0m\n",
      "\u001b[1;32m~\\Anaconda3\\lib\\site-packages\\pandas\\core\\internals\\construction.py\u001b[0m in \u001b[0;36m_convert_object_array\u001b[1;34m(content, columns, coerce_float, dtype)\u001b[0m\n\u001b[0;32m    490\u001b[0m             raise AssertionError('{col:d} columns passed, passed data had '\n\u001b[0;32m    491\u001b[0m                                  '{con} columns'.format(col=len(columns),\n\u001b[1;32m--> 492\u001b[1;33m                                                         con=len(content)))\n\u001b[0m\u001b[0;32m    493\u001b[0m \u001b[1;33m\u001b[0m\u001b[0m\n\u001b[0;32m    494\u001b[0m     \u001b[1;31m# provide soft conversion of object dtypes\u001b[0m\u001b[1;33m\u001b[0m\u001b[1;33m\u001b[0m\u001b[1;33m\u001b[0m\u001b[0m\n",
      "\u001b[1;31mAssertionError\u001b[0m: 0 columns passed, passed data had 3 columns"
     ]
    }
   ],
   "source": [
    "# No Idea. Spent too long on\n",
    "\n",
    "# Plot the results from your previous query as a bar chart. \n",
    "# Use \"Trip Avg Temp\" as your Title\n",
    "# Use the average temperature for the y value\n",
    "# Use the peak-to-peak (tmax-tmin) value as the y error bar (yerr)\n",
    "data = pd.DataFrame(t_data)\n",
    "data.plot.bar()\n",
    "plt.title('Trip Avg Temp')\n",
    "plt.xlabel('Date')\n",
    "plt.ylabel('Average Temperature')\n",
    "plt.show()"
   ]
  },
  {
   "cell_type": "code",
   "execution_count": 24,
   "metadata": {},
   "outputs": [
    {
     "name": "stdout",
     "output_type": "stream",
     "text": [
      "[('USC00516128', 'MANOA LYON ARBO 785.2, HI US', 21.3331, -157.8025, 152.4, 1.1), ('USC00519281', 'WAIHEE 837.5, HI US', 21.45167, -157.84888999999998, 32.9, 0.46), ('USC00513117', 'KANEOHE 838.1, HI US', 21.4234, -157.8015, 14.6, 0.18000000000000002), ('USC00519397', 'WAIKIKI 717.2, HI US', 21.2716, -157.8168, 3.0, 0.14), ('USC00517948', 'PEARL CITY, HI US', 21.3934, -157.9751, 11.9, 0.12), ('USC00519523', 'WAIMANALO EXPERIMENTAL FARM, HI US', 21.33556, -157.71139, 19.5, 0.07), ('USC00514830', 'KUALOA RANCH HEADQUARTERS 886.9, HI US', 21.5213, -157.8374, 7.0, 0.0)]\n"
     ]
    }
   ],
   "source": [
    "# Calculate the total amount of rainfall per weather station for your trip dates using the previous year's matching dates.\n",
    "# Sort this in descending order by precipitation amount and list the station, name, latitude, longitude, and elevation\n",
    "start_date = '2017-06-24'\n",
    "end_date = '2017-06-30'\n",
    "\n",
    "sel = [Station.station, Station.name, Station.latitude, \n",
    "       Station.longitude, Station.elevation, func.sum(Measurement.prcp)]\n",
    "\n",
    "results = session.query(*sel).\\\n",
    "    filter(Measurement.station == Station.station).\\\n",
    "    filter(Measurement.date >= start_date).\\\n",
    "    filter(Measurement.date <= end_date).\\\n",
    "    group_by(Station.name).order_by(func.sum(Measurement.prcp).desc()).all()\n",
    "print(results)"
   ]
  },
  {
   "cell_type": "code",
   "execution_count": null,
   "metadata": {},
   "outputs": [],
   "source": []
  }
 ],
 "metadata": {
  "kernelspec": {
   "display_name": "Python 3",
   "language": "python",
   "name": "python3"
  },
  "language_info": {
   "codemirror_mode": {
    "name": "ipython",
    "version": 3
   },
   "file_extension": ".py",
   "mimetype": "text/x-python",
   "name": "python",
   "nbconvert_exporter": "python",
   "pygments_lexer": "ipython3",
   "version": "3.7.3"
  }
 },
 "nbformat": 4,
 "nbformat_minor": 2
}
